{
 "cells": [
  {
   "cell_type": "code",
   "execution_count": 12,
   "id": "9a4e7077-5b4d-4434-8c86-ef6b261306fa",
   "metadata": {},
   "outputs": [],
   "source": [
    "import numpy as np\n",
    "import pandas as pd\n",
    "import matplotlib.pyplot as plt\n",
    "import seaborn as sns\n",
    "%matplotlib inline\n",
    "import random"
   ]
  },
  {
   "cell_type": "code",
   "execution_count": 13,
   "id": "a819a0fd-6755-4b27-b5e3-7275303db8fd",
   "metadata": {},
   "outputs": [
    {
     "data": {
      "text/html": [
       "<div>\n",
       "<style scoped>\n",
       "    .dataframe tbody tr th:only-of-type {\n",
       "        vertical-align: middle;\n",
       "    }\n",
       "\n",
       "    .dataframe tbody tr th {\n",
       "        vertical-align: top;\n",
       "    }\n",
       "\n",
       "    .dataframe thead th {\n",
       "        text-align: right;\n",
       "    }\n",
       "</style>\n",
       "<table border=\"1\" class=\"dataframe\">\n",
       "  <thead>\n",
       "    <tr style=\"text-align: right;\">\n",
       "      <th></th>\n",
       "      <th>Date</th>\n",
       "      <th>Category</th>\n",
       "      <th>Likes</th>\n",
       "    </tr>\n",
       "  </thead>\n",
       "  <tbody>\n",
       "    <tr>\n",
       "      <th>0</th>\n",
       "      <td>2021-01-01</td>\n",
       "      <td>Culture</td>\n",
       "      <td>8774</td>\n",
       "    </tr>\n",
       "    <tr>\n",
       "      <th>1</th>\n",
       "      <td>2021-01-02</td>\n",
       "      <td>Fashion</td>\n",
       "      <td>5607</td>\n",
       "    </tr>\n",
       "    <tr>\n",
       "      <th>2</th>\n",
       "      <td>2021-01-03</td>\n",
       "      <td>Travel</td>\n",
       "      <td>5985</td>\n",
       "    </tr>\n",
       "    <tr>\n",
       "      <th>3</th>\n",
       "      <td>2021-01-04</td>\n",
       "      <td>Fashion</td>\n",
       "      <td>5157</td>\n",
       "    </tr>\n",
       "    <tr>\n",
       "      <th>4</th>\n",
       "      <td>2021-01-05</td>\n",
       "      <td>Food</td>\n",
       "      <td>9531</td>\n",
       "    </tr>\n",
       "  </tbody>\n",
       "</table>\n",
       "</div>"
      ],
      "text/plain": [
       "        Date Category  Likes\n",
       "0 2021-01-01  Culture   8774\n",
       "1 2021-01-02  Fashion   5607\n",
       "2 2021-01-03   Travel   5985\n",
       "3 2021-01-04  Fashion   5157\n",
       "4 2021-01-05     Food   9531"
      ]
     },
     "execution_count": 13,
     "metadata": {},
     "output_type": "execute_result"
    }
   ],
   "source": [
    "categories = ['Food', 'Travel', 'Fashion', 'Fitness', 'Music', 'Culture', 'Family', 'Health']\n",
    "\n",
    "# Number of entries (n)\n",
    "n = 500\n",
    "\n",
    "# Generate random data\n",
    "data = {\n",
    "    'Date': pd.date_range('2021-01-01', periods=n),\n",
    "    'Category': [random.choice(categories) for _ in range(n)],\n",
    "    'Likes': np.random.randint(0, 10000, size=n)\n",
    "}\n",
    "\n",
    "# Create a DataFrame\n",
    "df = pd.DataFrame(data)\n",
    "df.head()"
   ]
  },
  {
   "cell_type": "code",
   "execution_count": 14,
   "id": "d488de32-3fe7-40aa-8645-583fd3c50c13",
   "metadata": {},
   "outputs": [
    {
     "name": "stdout",
     "output_type": "stream",
     "text": [
      "<class 'pandas.core.frame.DataFrame'>\n",
      "RangeIndex: 500 entries, 0 to 499\n",
      "Data columns (total 3 columns):\n",
      " #   Column    Non-Null Count  Dtype         \n",
      "---  ------    --------------  -----         \n",
      " 0   Date      500 non-null    datetime64[ns]\n",
      " 1   Category  500 non-null    object        \n",
      " 2   Likes     500 non-null    int32         \n",
      "dtypes: datetime64[ns](1), int32(1), object(1)\n",
      "memory usage: 9.9+ KB\n"
     ]
    }
   ],
   "source": [
    "df.info()"
   ]
  },
  {
   "cell_type": "code",
   "execution_count": 15,
   "id": "0c61b416-c6f0-4df6-8c6b-de2009433cda",
   "metadata": {},
   "outputs": [
    {
     "data": {
      "text/html": [
       "<div>\n",
       "<style scoped>\n",
       "    .dataframe tbody tr th:only-of-type {\n",
       "        vertical-align: middle;\n",
       "    }\n",
       "\n",
       "    .dataframe tbody tr th {\n",
       "        vertical-align: top;\n",
       "    }\n",
       "\n",
       "    .dataframe thead th {\n",
       "        text-align: right;\n",
       "    }\n",
       "</style>\n",
       "<table border=\"1\" class=\"dataframe\">\n",
       "  <thead>\n",
       "    <tr style=\"text-align: right;\">\n",
       "      <th></th>\n",
       "      <th>Date</th>\n",
       "      <th>Category</th>\n",
       "      <th>Likes</th>\n",
       "    </tr>\n",
       "  </thead>\n",
       "  <tbody>\n",
       "    <tr>\n",
       "      <th>count</th>\n",
       "      <td>500</td>\n",
       "      <td>500</td>\n",
       "      <td>500.000000</td>\n",
       "    </tr>\n",
       "    <tr>\n",
       "      <th>unique</th>\n",
       "      <td>NaN</td>\n",
       "      <td>8</td>\n",
       "      <td>NaN</td>\n",
       "    </tr>\n",
       "    <tr>\n",
       "      <th>top</th>\n",
       "      <td>NaN</td>\n",
       "      <td>Family</td>\n",
       "      <td>NaN</td>\n",
       "    </tr>\n",
       "    <tr>\n",
       "      <th>freq</th>\n",
       "      <td>NaN</td>\n",
       "      <td>72</td>\n",
       "      <td>NaN</td>\n",
       "    </tr>\n",
       "    <tr>\n",
       "      <th>mean</th>\n",
       "      <td>2021-09-07 12:00:00</td>\n",
       "      <td>NaN</td>\n",
       "      <td>4963.034000</td>\n",
       "    </tr>\n",
       "    <tr>\n",
       "      <th>min</th>\n",
       "      <td>2021-01-01 00:00:00</td>\n",
       "      <td>NaN</td>\n",
       "      <td>1.000000</td>\n",
       "    </tr>\n",
       "    <tr>\n",
       "      <th>25%</th>\n",
       "      <td>2021-05-05 18:00:00</td>\n",
       "      <td>NaN</td>\n",
       "      <td>2458.750000</td>\n",
       "    </tr>\n",
       "    <tr>\n",
       "      <th>50%</th>\n",
       "      <td>2021-09-07 12:00:00</td>\n",
       "      <td>NaN</td>\n",
       "      <td>5149.000000</td>\n",
       "    </tr>\n",
       "    <tr>\n",
       "      <th>75%</th>\n",
       "      <td>2022-01-10 06:00:00</td>\n",
       "      <td>NaN</td>\n",
       "      <td>7156.000000</td>\n",
       "    </tr>\n",
       "    <tr>\n",
       "      <th>max</th>\n",
       "      <td>2022-05-15 00:00:00</td>\n",
       "      <td>NaN</td>\n",
       "      <td>9992.000000</td>\n",
       "    </tr>\n",
       "    <tr>\n",
       "      <th>std</th>\n",
       "      <td>NaN</td>\n",
       "      <td>NaN</td>\n",
       "      <td>2837.408765</td>\n",
       "    </tr>\n",
       "  </tbody>\n",
       "</table>\n",
       "</div>"
      ],
      "text/plain": [
       "                       Date Category        Likes\n",
       "count                   500      500   500.000000\n",
       "unique                  NaN        8          NaN\n",
       "top                     NaN   Family          NaN\n",
       "freq                    NaN       72          NaN\n",
       "mean    2021-09-07 12:00:00      NaN  4963.034000\n",
       "min     2021-01-01 00:00:00      NaN     1.000000\n",
       "25%     2021-05-05 18:00:00      NaN  2458.750000\n",
       "50%     2021-09-07 12:00:00      NaN  5149.000000\n",
       "75%     2022-01-10 06:00:00      NaN  7156.000000\n",
       "max     2022-05-15 00:00:00      NaN  9992.000000\n",
       "std                     NaN      NaN  2837.408765"
      ]
     },
     "execution_count": 15,
     "metadata": {},
     "output_type": "execute_result"
    }
   ],
   "source": [
    "df.describe(include = 'all')"
   ]
  },
  {
   "cell_type": "code",
   "execution_count": 16,
   "id": "840fec6d-94c0-4fd9-abd3-aeec8b2e384a",
   "metadata": {},
   "outputs": [
    {
     "data": {
      "text/plain": [
       "Category\n",
       "Family     72\n",
       "Fitness    66\n",
       "Health     65\n",
       "Fashion    64\n",
       "Travel     62\n",
       "Culture    61\n",
       "Music      56\n",
       "Food       54\n",
       "Name: count, dtype: int64"
      ]
     },
     "execution_count": 16,
     "metadata": {},
     "output_type": "execute_result"
    }
   ],
   "source": [
    "df['Category'].value_counts()"
   ]
  },
  {
   "cell_type": "code",
   "execution_count": 27,
   "id": "cb698070-6793-4eea-9b51-63ed957465a8",
   "metadata": {},
   "outputs": [
    {
     "name": "stderr",
     "output_type": "stream",
     "text": [
      "C:\\Users\\Sankha Subhra Aich\\AppData\\Local\\Temp\\ipykernel_16640\\3520351439.py:1: FutureWarning: \n",
      "\n",
      "Passing `palette` without assigning `hue` is deprecated and will be removed in v0.14.0. Assign the `x` variable to `hue` and set `legend=False` for the same effect.\n",
      "\n",
      "  sns.countplot(x = 'Category', data = df, palette = 'rainbow')\n"
     ]
    },
    {
     "data": {
      "text/plain": [
       "<Axes: xlabel='Category', ylabel='count'>"
      ]
     },
     "execution_count": 27,
     "metadata": {},
     "output_type": "execute_result"
    },
    {
     "data": {
      "image/png": "[encoded data removed]",
      "text/plain": [
       "<Figure size 640x480 with 1 Axes>"
      ]
     },
     "metadata": {},
     "output_type": "display_data"
    }
   ],
   "source": [
    "sns.countplot(x = 'Category', data = df, palette = 'rainbow')"
   ]
  },
  {
   "cell_type": "code",
   "execution_count": 18,
   "id": "3ecb1e65-a1cd-4ecc-a76b-f1b860ff9439",
   "metadata": {},
   "outputs": [
    {
     "data": {
      "text/plain": [
       "Date        datetime64[ns]\n",
       "Category            object\n",
       "Likes                int32\n",
       "dtype: object"
      ]
     },
     "execution_count": 18,
     "metadata": {},
     "output_type": "execute_result"
    }
   ],
   "source": [
    "#Dropping Empty cells\n",
    "df.dropna(inplace = True)\n",
    "\n",
    "#Removing Duplicate Data\n",
    "df.drop_duplicates(inplace = True)\n",
    "\n",
    "#Convert Date fielt to datetime format\n",
    "df['Date'] = pd.to_datetime(df['Date'])\n",
    "\n",
    "#Convert Likes field to integer\n",
    "df.astype({'Likes': 'int32'}).dtypes"
   ]
  },
  {
   "cell_type": "code",
   "execution_count": 19,
   "id": "20368af3-c5e6-4b72-8875-ae76f5dcaa83",
   "metadata": {},
   "outputs": [
    {
     "name": "stderr",
     "output_type": "stream",
     "text": [
      "C:\\Users\\Sankha Subhra Aich\\AppData\\Local\\Temp\\ipykernel_16640\\2457433315.py:1: FutureWarning: \n",
      "\n",
      "Passing `palette` without assigning `hue` is deprecated and will be removed in v0.14.0. Assign the `x` variable to `hue` and set `legend=False` for the same effect.\n",
      "\n",
      "  sns.barplot(x = 'Category', y = 'Likes', data = df, palette = 'rainbow')\n"
     ]
    },
    {
     "data": {
      "text/plain": [
       "<Axes: xlabel='Category', ylabel='Likes'>"
      ]
     },
     "execution_count": 19,
     "metadata": {},
     "output_type": "execute_result"
    },
    {
     "data": {
      "image/png": "[encoded data removed]",
      "text/plain": [
       "<Figure size 640x480 with 1 Axes>"
      ]
     },
     "metadata": {},
     "output_type": "display_data"
    }
   ],
   "source": [
    "sns.barplot(x = 'Category', y = 'Likes', data = df, palette = 'rainbow')"
   ]
  },
  {
   "cell_type": "code",
   "execution_count": 21,
   "id": "e74d5584-dc31-426b-95e7-d3d64a2d3299",
   "metadata": {},
   "outputs": [
    {
     "data": {
      "text/plain": [
       "<Axes: xlabel='Likes', ylabel='Count'>"
      ]
     },
     "execution_count": 21,
     "metadata": {},
     "output_type": "execute_result"
    },
    {
     "data": {
      "image/png": "[encoded data removed]",
      "text/plain": [
       "<Figure size 640x480 with 1 Axes>"
      ]
     },
     "metadata": {},
     "output_type": "display_data"
    }
   ],
   "source": [
    "sns.histplot(df['Likes'],kde = True)"
   ]
  },
  {
   "cell_type": "code",
   "execution_count": 22,
   "id": "94b38f61-4405-404d-b097-5d0f12127805",
   "metadata": {},
   "outputs": [
    {
     "name": "stderr",
     "output_type": "stream",
     "text": [
      "C:\\Users\\Sankha Subhra Aich\\AppData\\Local\\Temp\\ipykernel_16640\\1487501544.py:1: FutureWarning: \n",
      "\n",
      "Passing `palette` without assigning `hue` is deprecated and will be removed in v0.14.0. Assign the `x` variable to `hue` and set `legend=False` for the same effect.\n",
      "\n",
      "  sns.boxplot(x = 'Category', y = 'Likes', data = df, palette = 'rainbow')\n"
     ]
    },
    {
     "data": {
      "text/plain": [
       "<Axes: xlabel='Category', ylabel='Likes'>"
      ]
     },
     "execution_count": 22,
     "metadata": {},
     "output_type": "execute_result"
    },
    {
     "data": {
      "image/png": "[encoded data removed]",
      "text/plain": [
       "<Figure size 640x480 with 1 Axes>"
      ]
     },
     "metadata": {},
     "output_type": "display_data"
    }
   ],
   "source": [
    "sns.boxplot(x = 'Category', y = 'Likes', data = df, palette = 'rainbow')"
   ]
  },
  {
   "cell_type": "code",
   "execution_count": 23,
   "id": "8021e919-6c3c-4b8e-af0b-7b1153d3a450",
   "metadata": {},
   "outputs": [
    {
     "data": {
      "text/plain": [
       "4963.034"
      ]
     },
     "execution_count": 23,
     "metadata": {},
     "output_type": "execute_result"
    }
   ],
   "source": [
    "df['Likes'].mean()"
   ]
  },
  {
   "cell_type": "code",
   "execution_count": 25,
   "id": "98f74e82-feb6-49b7-9ded-4f8f812e7706",
   "metadata": {},
   "outputs": [
    {
     "data": {
      "text/html": [
       "<div>\n",
       "<style scoped>\n",
       "    .dataframe tbody tr th:only-of-type {\n",
       "        vertical-align: middle;\n",
       "    }\n",
       "\n",
       "    .dataframe tbody tr th {\n",
       "        vertical-align: top;\n",
       "    }\n",
       "\n",
       "    .dataframe thead th {\n",
       "        text-align: right;\n",
       "    }\n",
       "</style>\n",
       "<table border=\"1\" class=\"dataframe\">\n",
       "  <thead>\n",
       "    <tr style=\"text-align: right;\">\n",
       "      <th></th>\n",
       "      <th>Date</th>\n",
       "      <th>Likes</th>\n",
       "    </tr>\n",
       "    <tr>\n",
       "      <th>Category</th>\n",
       "      <th></th>\n",
       "      <th></th>\n",
       "    </tr>\n",
       "  </thead>\n",
       "  <tbody>\n",
       "    <tr>\n",
       "      <th>Culture</th>\n",
       "      <td>2021-10-09 18:53:06.885245952</td>\n",
       "      <td>5224.983607</td>\n",
       "    </tr>\n",
       "    <tr>\n",
       "      <th>Family</th>\n",
       "      <td>2021-08-27 13:40:00.000000000</td>\n",
       "      <td>5242.555556</td>\n",
       "    </tr>\n",
       "    <tr>\n",
       "      <th>Fashion</th>\n",
       "      <td>2021-09-18 16:07:30.000000000</td>\n",
       "      <td>4831.812500</td>\n",
       "    </tr>\n",
       "    <tr>\n",
       "      <th>Fitness</th>\n",
       "      <td>2021-09-06 09:49:05.454545408</td>\n",
       "      <td>4297.242424</td>\n",
       "    </tr>\n",
       "    <tr>\n",
       "      <th>Food</th>\n",
       "      <td>2021-10-03 03:33:20.000000000</td>\n",
       "      <td>5528.277778</td>\n",
       "    </tr>\n",
       "    <tr>\n",
       "      <th>Health</th>\n",
       "      <td>2021-08-18 06:38:46.153846272</td>\n",
       "      <td>4999.353846</td>\n",
       "    </tr>\n",
       "    <tr>\n",
       "      <th>Music</th>\n",
       "      <td>2021-08-31 18:00:00.000000000</td>\n",
       "      <td>5115.125000</td>\n",
       "    </tr>\n",
       "    <tr>\n",
       "      <th>Travel</th>\n",
       "      <td>2021-08-14 00:23:13.548387072</td>\n",
       "      <td>4557.145161</td>\n",
       "    </tr>\n",
       "  </tbody>\n",
       "</table>\n",
       "</div>"
      ],
      "text/plain": [
       "                                  Date        Likes\n",
       "Category                                           \n",
       "Culture  2021-10-09 18:53:06.885245952  5224.983607\n",
       "Family   2021-08-27 13:40:00.000000000  5242.555556\n",
       "Fashion  2021-09-18 16:07:30.000000000  4831.812500\n",
       "Fitness  2021-09-06 09:49:05.454545408  4297.242424\n",
       "Food     2021-10-03 03:33:20.000000000  5528.277778\n",
       "Health   2021-08-18 06:38:46.153846272  4999.353846\n",
       "Music    2021-08-31 18:00:00.000000000  5115.125000\n",
       "Travel   2021-08-14 00:23:13.548387072  4557.145161"
      ]
     },
     "execution_count": 25,
     "metadata": {},
     "output_type": "execute_result"
    }
   ],
   "source": [
    "df.groupby('Category').mean()"
   ]
  },
  {
   "cell_type": "code",
   "execution_count": null,
   "id": "b5ee49b5-16b4-4a2c-b931-cdc6f24dae6e",
   "metadata": {},
   "outputs": [],
   "source": []
  }
 ],
 "metadata": {
  "kernelspec": {
   "display_name": "Python 3 (ipykernel)",
   "language": "python",
   "name": "python3"
  },
  "language_info": {
   "codemirror_mode": {
    "name": "ipython",
    "version": 3
   },
   "file_extension": ".py",
   "mimetype": "text/x-python",
   "name": "python",
   "nbconvert_exporter": "python",
   "pygments_lexer": "ipython3",
   "version": "3.12.1"
  }
 },
 "nbformat": 4,
 "nbformat_minor": 5
}
